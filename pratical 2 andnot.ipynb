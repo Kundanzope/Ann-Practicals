{
 "cells": [
  {
   "cell_type": "code",
   "execution_count": 1,
   "id": "d82adcb9-5fee-4c32-9732-9672ee82e9e6",
   "metadata": {},
   "outputs": [],
   "source": [
    "import numpy as np"
   ]
  },
  {
   "cell_type": "code",
   "execution_count": 9,
   "id": "4fef73e8-4b33-4592-b49e-1093228932c4",
   "metadata": {},
   "outputs": [],
   "source": [
    "def ANDNOT(x1,x2):\n",
    "    weights = np.array([-1,-1,1])\n",
    "    bias = 1\n",
    "    activation = np.sum(weights*np.array([x1,x2,1]))+bias\n",
    "    output = 0 if activation <= 0 else 1\n",
    "    return output"
   ]
  },
  {
   "cell_type": "code",
   "execution_count": 10,
   "id": "6c755941-e46c-465f-b0ee-a729c5cf3d2f",
   "metadata": {},
   "outputs": [
    {
     "name": "stdout",
     "output_type": "stream",
     "text": [
      "ANDNOT(0, 0) = 1\n",
      "ANDNOT(0, 1) = 1\n",
      "ANDNOT(1, 0) = 1\n",
      "ANDNOT(1, 1) = 0\n"
     ]
    }
   ],
   "source": [
    "print(\"ANDNOT(0, 0) =\",ANDNOT(0,0))\n",
    "print(\"ANDNOT(0, 1) =\",ANDNOT(0,1))\n",
    "print(\"ANDNOT(1, 0) =\",ANDNOT(1,0))\n",
    "print(\"ANDNOT(1, 1) =\",ANDNOT(1,1))"
   ]
  },
  {
   "cell_type": "code",
   "execution_count": null,
   "id": "4eaca942-3a18-4021-a8fd-84080d2167e1",
   "metadata": {},
   "outputs": [],
   "source": []
  }
 ],
 "metadata": {
  "kernelspec": {
   "display_name": "Python 3 (ipykernel)",
   "language": "python",
   "name": "python3"
  },
  "language_info": {
   "codemirror_mode": {
    "name": "ipython",
    "version": 3
   },
   "file_extension": ".py",
   "mimetype": "text/x-python",
   "name": "python",
   "nbconvert_exporter": "python",
   "pygments_lexer": "ipython3",
   "version": "3.10.2"
  }
 },
 "nbformat": 4,
 "nbformat_minor": 5
}
