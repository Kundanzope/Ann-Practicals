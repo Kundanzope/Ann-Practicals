{
 "cells": [
  {
   "cell_type": "code",
   "execution_count": 1,
   "id": "7d805a8f-6db8-414c-b70f-9b926ee349c1",
   "metadata": {},
   "outputs": [
    {
     "name": "stdout",
     "output_type": "stream",
     "text": [
      "Input vector:\n",
      "[-1  1 -1  1]\n",
      "Output vector:\n",
      "[-1  1 -1  1]\n"
     ]
    }
   ],
   "source": [
    "import numpy as np\n",
    "\n",
    "# Define the 4 vectors to be stored\n",
    "vectors = np.array([[1, 1, -1, -1],\n",
    "                    [-1, -1, 1, 1],\n",
    "                    [1, -1, 1, -1],\n",
    "                    [-1, 1, -1, 1]])\n",
    "\n",
    "\n",
    "# Calculate the weight matrix\n",
    "weights = np.zeros((4, 4))\n",
    "for i in range(4):\n",
    "    for j in range(4):\n",
    "        if i == j:\n",
    "            weights[i, j] = 0\n",
    "        else:\n",
    "            weights[i, j] = np.sum(vectors[i] * vectors[j])\n",
    "\n",
    "\n",
    "# Define the activation function (in this case, a sign function)\n",
    "def activation(x):\n",
    "    return np.where(x >= 0, 1, -1)\n",
    "\n",
    "\n",
    "# Define the Hopfield network function\n",
    "def hopfield(input_vector, weights):\n",
    "    output_vector = activation(np.dot(weights, input_vector))\n",
    "    return output_vector\n",
    "\n",
    "\n",
    "# Test the Hopfield network with one of the stored vectors as input\n",
    "input_vector = vectors[3]\n",
    "output_vector = hopfield(input_vector, weights)\n",
    "print(\"Input vector:\")\n",
    "print(input_vector)\n",
    "print(\"Output vector:\")\n",
    "print(output_vector)"
   ]
  },
  {
   "cell_type": "code",
   "execution_count": null,
   "id": "08fcac97-7c4c-42b4-a82e-80e359117443",
   "metadata": {},
   "outputs": [],
   "source": []
  }
 ],
 "metadata": {
  "kernelspec": {
   "display_name": "Python 3 (ipykernel)",
   "language": "python",
   "name": "python3"
  },
  "language_info": {
   "codemirror_mode": {
    "name": "ipython",
    "version": 3
   },
   "file_extension": ".py",
   "mimetype": "text/x-python",
   "name": "python",
   "nbconvert_exporter": "python",
   "pygments_lexer": "ipython3",
   "version": "3.10.2"
  }
 },
 "nbformat": 4,
 "nbformat_minor": 5
}
